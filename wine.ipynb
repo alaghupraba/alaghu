{
 "cells": [
  {
   "cell_type": "code",
   "execution_count": 1,
   "id": "2edb7a25",
   "metadata": {},
   "outputs": [
    {
     "data": {
      "text/html": [
       "<div>\n",
       "<style scoped>\n",
       "    .dataframe tbody tr th:only-of-type {\n",
       "        vertical-align: middle;\n",
       "    }\n",
       "\n",
       "    .dataframe tbody tr th {\n",
       "        vertical-align: top;\n",
       "    }\n",
       "\n",
       "    .dataframe thead th {\n",
       "        text-align: right;\n",
       "    }\n",
       "</style>\n",
       "<table border=\"1\" class=\"dataframe\">\n",
       "  <thead>\n",
       "    <tr style=\"text-align: right;\">\n",
       "      <th></th>\n",
       "      <th>Unnamed: 0</th>\n",
       "      <th>fixed acidity</th>\n",
       "      <th>volatile acidity</th>\n",
       "      <th>citric acid</th>\n",
       "      <th>residual sugar</th>\n",
       "      <th>chlorides</th>\n",
       "      <th>free sulfur dioxide</th>\n",
       "      <th>total sulfur dioxide</th>\n",
       "      <th>density</th>\n",
       "      <th>pH</th>\n",
       "      <th>sulphates</th>\n",
       "      <th>alcohol</th>\n",
       "      <th>quality</th>\n",
       "      <th>Type</th>\n",
       "    </tr>\n",
       "  </thead>\n",
       "  <tbody>\n",
       "    <tr>\n",
       "      <th>0</th>\n",
       "      <td>2732</td>\n",
       "      <td>7.4</td>\n",
       "      <td>0.170</td>\n",
       "      <td>0.29</td>\n",
       "      <td>1.4</td>\n",
       "      <td>0.047</td>\n",
       "      <td>23.0</td>\n",
       "      <td>107.0</td>\n",
       "      <td>0.99390</td>\n",
       "      <td>3.52</td>\n",
       "      <td>0.65</td>\n",
       "      <td>10.4</td>\n",
       "      <td>6</td>\n",
       "      <td>White Wine</td>\n",
       "    </tr>\n",
       "    <tr>\n",
       "      <th>1</th>\n",
       "      <td>2607</td>\n",
       "      <td>5.3</td>\n",
       "      <td>0.310</td>\n",
       "      <td>0.38</td>\n",
       "      <td>10.5</td>\n",
       "      <td>0.031</td>\n",
       "      <td>53.0</td>\n",
       "      <td>140.0</td>\n",
       "      <td>0.99321</td>\n",
       "      <td>3.34</td>\n",
       "      <td>0.46</td>\n",
       "      <td>11.7</td>\n",
       "      <td>6</td>\n",
       "      <td>White Wine</td>\n",
       "    </tr>\n",
       "    <tr>\n",
       "      <th>2</th>\n",
       "      <td>1653</td>\n",
       "      <td>4.7</td>\n",
       "      <td>0.145</td>\n",
       "      <td>0.29</td>\n",
       "      <td>1.0</td>\n",
       "      <td>0.042</td>\n",
       "      <td>35.0</td>\n",
       "      <td>90.0</td>\n",
       "      <td>0.99080</td>\n",
       "      <td>3.76</td>\n",
       "      <td>0.49</td>\n",
       "      <td>11.3</td>\n",
       "      <td>6</td>\n",
       "      <td>White Wine</td>\n",
       "    </tr>\n",
       "    <tr>\n",
       "      <th>3</th>\n",
       "      <td>3264</td>\n",
       "      <td>6.9</td>\n",
       "      <td>0.260</td>\n",
       "      <td>0.29</td>\n",
       "      <td>4.2</td>\n",
       "      <td>0.043</td>\n",
       "      <td>33.0</td>\n",
       "      <td>114.0</td>\n",
       "      <td>0.99020</td>\n",
       "      <td>3.16</td>\n",
       "      <td>0.31</td>\n",
       "      <td>12.5</td>\n",
       "      <td>6</td>\n",
       "      <td>White Wine</td>\n",
       "    </tr>\n",
       "    <tr>\n",
       "      <th>4</th>\n",
       "      <td>4931</td>\n",
       "      <td>6.4</td>\n",
       "      <td>0.450</td>\n",
       "      <td>0.07</td>\n",
       "      <td>1.1</td>\n",
       "      <td>0.030</td>\n",
       "      <td>10.0</td>\n",
       "      <td>131.0</td>\n",
       "      <td>0.99050</td>\n",
       "      <td>2.97</td>\n",
       "      <td>0.28</td>\n",
       "      <td>10.8</td>\n",
       "      <td>5</td>\n",
       "      <td>White Wine</td>\n",
       "    </tr>\n",
       "    <tr>\n",
       "      <th>...</th>\n",
       "      <td>...</td>\n",
       "      <td>...</td>\n",
       "      <td>...</td>\n",
       "      <td>...</td>\n",
       "      <td>...</td>\n",
       "      <td>...</td>\n",
       "      <td>...</td>\n",
       "      <td>...</td>\n",
       "      <td>...</td>\n",
       "      <td>...</td>\n",
       "      <td>...</td>\n",
       "      <td>...</td>\n",
       "      <td>...</td>\n",
       "      <td>...</td>\n",
       "    </tr>\n",
       "    <tr>\n",
       "      <th>32480</th>\n",
       "      <td>2838</td>\n",
       "      <td>5.0</td>\n",
       "      <td>0.255</td>\n",
       "      <td>0.22</td>\n",
       "      <td>2.7</td>\n",
       "      <td>0.043</td>\n",
       "      <td>46.0</td>\n",
       "      <td>153.0</td>\n",
       "      <td>0.99238</td>\n",
       "      <td>3.75</td>\n",
       "      <td>0.76</td>\n",
       "      <td>11.3</td>\n",
       "      <td>6</td>\n",
       "      <td>White Wine</td>\n",
       "    </tr>\n",
       "    <tr>\n",
       "      <th>32481</th>\n",
       "      <td>6414</td>\n",
       "      <td>6.6</td>\n",
       "      <td>0.360</td>\n",
       "      <td>0.52</td>\n",
       "      <td>11.3</td>\n",
       "      <td>0.046</td>\n",
       "      <td>8.0</td>\n",
       "      <td>110.0</td>\n",
       "      <td>0.99660</td>\n",
       "      <td>3.07</td>\n",
       "      <td>0.46</td>\n",
       "      <td>9.4</td>\n",
       "      <td>5</td>\n",
       "      <td>White Wine</td>\n",
       "    </tr>\n",
       "    <tr>\n",
       "      <th>32482</th>\n",
       "      <td>1126</td>\n",
       "      <td>6.3</td>\n",
       "      <td>0.200</td>\n",
       "      <td>0.24</td>\n",
       "      <td>1.7</td>\n",
       "      <td>0.052</td>\n",
       "      <td>36.0</td>\n",
       "      <td>135.0</td>\n",
       "      <td>0.99374</td>\n",
       "      <td>3.80</td>\n",
       "      <td>0.66</td>\n",
       "      <td>10.8</td>\n",
       "      <td>6</td>\n",
       "      <td>White Wine</td>\n",
       "    </tr>\n",
       "    <tr>\n",
       "      <th>32483</th>\n",
       "      <td>2924</td>\n",
       "      <td>6.2</td>\n",
       "      <td>0.200</td>\n",
       "      <td>0.33</td>\n",
       "      <td>5.4</td>\n",
       "      <td>0.028</td>\n",
       "      <td>21.0</td>\n",
       "      <td>75.0</td>\n",
       "      <td>0.99012</td>\n",
       "      <td>3.36</td>\n",
       "      <td>0.41</td>\n",
       "      <td>13.5</td>\n",
       "      <td>7</td>\n",
       "      <td>White Wine</td>\n",
       "    </tr>\n",
       "    <tr>\n",
       "      <th>32484</th>\n",
       "      <td>5462</td>\n",
       "      <td>8.1</td>\n",
       "      <td>0.280</td>\n",
       "      <td>0.46</td>\n",
       "      <td>15.4</td>\n",
       "      <td>0.059</td>\n",
       "      <td>32.0</td>\n",
       "      <td>177.0</td>\n",
       "      <td>1.00040</td>\n",
       "      <td>3.27</td>\n",
       "      <td>0.58</td>\n",
       "      <td>9.0</td>\n",
       "      <td>4</td>\n",
       "      <td>White Wine</td>\n",
       "    </tr>\n",
       "  </tbody>\n",
       "</table>\n",
       "<p>32485 rows × 14 columns</p>\n",
       "</div>"
      ],
      "text/plain": [
       "       Unnamed: 0  fixed acidity  volatile acidity  citric acid  \\\n",
       "0            2732            7.4             0.170         0.29   \n",
       "1            2607            5.3             0.310         0.38   \n",
       "2            1653            4.7             0.145         0.29   \n",
       "3            3264            6.9             0.260         0.29   \n",
       "4            4931            6.4             0.450         0.07   \n",
       "...           ...            ...               ...          ...   \n",
       "32480        2838            5.0             0.255         0.22   \n",
       "32481        6414            6.6             0.360         0.52   \n",
       "32482        1126            6.3             0.200         0.24   \n",
       "32483        2924            6.2             0.200         0.33   \n",
       "32484        5462            8.1             0.280         0.46   \n",
       "\n",
       "       residual sugar  chlorides  free sulfur dioxide  total sulfur dioxide  \\\n",
       "0                 1.4      0.047                 23.0                 107.0   \n",
       "1                10.5      0.031                 53.0                 140.0   \n",
       "2                 1.0      0.042                 35.0                  90.0   \n",
       "3                 4.2      0.043                 33.0                 114.0   \n",
       "4                 1.1      0.030                 10.0                 131.0   \n",
       "...               ...        ...                  ...                   ...   \n",
       "32480             2.7      0.043                 46.0                 153.0   \n",
       "32481            11.3      0.046                  8.0                 110.0   \n",
       "32482             1.7      0.052                 36.0                 135.0   \n",
       "32483             5.4      0.028                 21.0                  75.0   \n",
       "32484            15.4      0.059                 32.0                 177.0   \n",
       "\n",
       "       density    pH  sulphates  alcohol  quality        Type  \n",
       "0      0.99390  3.52       0.65     10.4        6  White Wine  \n",
       "1      0.99321  3.34       0.46     11.7        6  White Wine  \n",
       "2      0.99080  3.76       0.49     11.3        6  White Wine  \n",
       "3      0.99020  3.16       0.31     12.5        6  White Wine  \n",
       "4      0.99050  2.97       0.28     10.8        5  White Wine  \n",
       "...        ...   ...        ...      ...      ...         ...  \n",
       "32480  0.99238  3.75       0.76     11.3        6  White Wine  \n",
       "32481  0.99660  3.07       0.46      9.4        5  White Wine  \n",
       "32482  0.99374  3.80       0.66     10.8        6  White Wine  \n",
       "32483  0.99012  3.36       0.41     13.5        7  White Wine  \n",
       "32484  1.00040  3.27       0.58      9.0        4  White Wine  \n",
       "\n",
       "[32485 rows x 14 columns]"
      ]
     },
     "execution_count": 1,
     "metadata": {},
     "output_type": "execute_result"
    }
   ],
   "source": [
    "import pandas as pd\n",
    "import numpy as np\n",
    "df=pd.read_csv(r'C:\\Users\\dell\\OneDrive\\Desktop\\dataset\\WineQuality.csv')\n",
    "df"
   ]
  },
  {
   "cell_type": "code",
   "execution_count": 2,
   "id": "17898725",
   "metadata": {},
   "outputs": [
    {
     "data": {
      "text/plain": [
       "Unnamed: 0              0\n",
       "fixed acidity           0\n",
       "volatile acidity        0\n",
       "citric acid             0\n",
       "residual sugar          0\n",
       "chlorides               0\n",
       "free sulfur dioxide     0\n",
       "total sulfur dioxide    0\n",
       "density                 0\n",
       "pH                      0\n",
       "sulphates               0\n",
       "alcohol                 0\n",
       "quality                 0\n",
       "Type                    0\n",
       "dtype: int64"
      ]
     },
     "execution_count": 2,
     "metadata": {},
     "output_type": "execute_result"
    }
   ],
   "source": [
    "df.isnull().sum()"
   ]
  },
  {
   "cell_type": "code",
   "execution_count": 3,
   "id": "1188311e",
   "metadata": {},
   "outputs": [
    {
     "data": {
      "text/plain": [
       "np.int64(26036)"
      ]
     },
     "execution_count": 3,
     "metadata": {},
     "output_type": "execute_result"
    }
   ],
   "source": [
    "df.duplicated().sum()"
   ]
  },
  {
   "cell_type": "code",
   "execution_count": 4,
   "id": "dfe5b2c6",
   "metadata": {},
   "outputs": [],
   "source": [
    "df.drop_duplicates(inplace=True)"
   ]
  },
  {
   "cell_type": "code",
   "execution_count": 5,
   "id": "ac0bc0c8",
   "metadata": {},
   "outputs": [
    {
     "data": {
      "text/plain": [
       "np.int64(0)"
      ]
     },
     "execution_count": 5,
     "metadata": {},
     "output_type": "execute_result"
    }
   ],
   "source": [
    "df.duplicated().sum()"
   ]
  },
  {
   "cell_type": "code",
   "execution_count": 6,
   "id": "e731fbaf",
   "metadata": {},
   "outputs": [
    {
     "name": "stdout",
     "output_type": "stream",
     "text": [
      "<class 'pandas.core.frame.DataFrame'>\n",
      "Index: 6449 entries, 0 to 32056\n",
      "Data columns (total 14 columns):\n",
      " #   Column                Non-Null Count  Dtype  \n",
      "---  ------                --------------  -----  \n",
      " 0   Unnamed: 0            6449 non-null   int64  \n",
      " 1   fixed acidity         6449 non-null   float64\n",
      " 2   volatile acidity      6449 non-null   float64\n",
      " 3   citric acid           6449 non-null   float64\n",
      " 4   residual sugar        6449 non-null   float64\n",
      " 5   chlorides             6449 non-null   float64\n",
      " 6   free sulfur dioxide   6449 non-null   float64\n",
      " 7   total sulfur dioxide  6449 non-null   float64\n",
      " 8   density               6449 non-null   float64\n",
      " 9   pH                    6449 non-null   float64\n",
      " 10  sulphates             6449 non-null   float64\n",
      " 11  alcohol               6449 non-null   float64\n",
      " 12  quality               6449 non-null   int64  \n",
      " 13  Type                  6449 non-null   object \n",
      "dtypes: float64(11), int64(2), object(1)\n",
      "memory usage: 755.7+ KB\n"
     ]
    }
   ],
   "source": [
    "df.info()"
   ]
  },
  {
   "cell_type": "code",
   "execution_count": 7,
   "id": "699c2b47",
   "metadata": {},
   "outputs": [
    {
     "data": {
      "text/plain": [
       "array(['White Wine', 'Red Wine'], dtype=object)"
      ]
     },
     "execution_count": 7,
     "metadata": {},
     "output_type": "execute_result"
    }
   ],
   "source": [
    "df['Type'].unique()"
   ]
  },
  {
   "cell_type": "code",
   "execution_count": 8,
   "id": "18922d60",
   "metadata": {},
   "outputs": [],
   "source": [
    "df=df.drop('Unnamed: 0',axis=1)"
   ]
  },
  {
   "cell_type": "code",
   "execution_count": 9,
   "id": "bc9aa3b3",
   "metadata": {},
   "outputs": [],
   "source": [
    "from sklearn.preprocessing import OrdinalEncoder\n",
    "oe=OrdinalEncoder()\n",
    "df['Type']=oe.fit_transform(df[['Type']])"
   ]
  },
  {
   "cell_type": "code",
   "execution_count": 10,
   "id": "6cc8b863",
   "metadata": {},
   "outputs": [
    {
     "data": {
      "text/html": [
       "<div>\n",
       "<style scoped>\n",
       "    .dataframe tbody tr th:only-of-type {\n",
       "        vertical-align: middle;\n",
       "    }\n",
       "\n",
       "    .dataframe tbody tr th {\n",
       "        vertical-align: top;\n",
       "    }\n",
       "\n",
       "    .dataframe thead th {\n",
       "        text-align: right;\n",
       "    }\n",
       "</style>\n",
       "<table border=\"1\" class=\"dataframe\">\n",
       "  <thead>\n",
       "    <tr style=\"text-align: right;\">\n",
       "      <th></th>\n",
       "      <th>fixed acidity</th>\n",
       "      <th>volatile acidity</th>\n",
       "      <th>citric acid</th>\n",
       "      <th>residual sugar</th>\n",
       "      <th>chlorides</th>\n",
       "      <th>free sulfur dioxide</th>\n",
       "      <th>total sulfur dioxide</th>\n",
       "      <th>density</th>\n",
       "      <th>pH</th>\n",
       "      <th>sulphates</th>\n",
       "      <th>alcohol</th>\n",
       "      <th>quality</th>\n",
       "      <th>Type</th>\n",
       "    </tr>\n",
       "  </thead>\n",
       "  <tbody>\n",
       "    <tr>\n",
       "      <th>0</th>\n",
       "      <td>7.4</td>\n",
       "      <td>0.170</td>\n",
       "      <td>0.29</td>\n",
       "      <td>1.4</td>\n",
       "      <td>0.047</td>\n",
       "      <td>23.0</td>\n",
       "      <td>107.0</td>\n",
       "      <td>0.99390</td>\n",
       "      <td>3.52</td>\n",
       "      <td>0.65</td>\n",
       "      <td>10.4</td>\n",
       "      <td>6</td>\n",
       "      <td>1.0</td>\n",
       "    </tr>\n",
       "    <tr>\n",
       "      <th>1</th>\n",
       "      <td>5.3</td>\n",
       "      <td>0.310</td>\n",
       "      <td>0.38</td>\n",
       "      <td>10.5</td>\n",
       "      <td>0.031</td>\n",
       "      <td>53.0</td>\n",
       "      <td>140.0</td>\n",
       "      <td>0.99321</td>\n",
       "      <td>3.34</td>\n",
       "      <td>0.46</td>\n",
       "      <td>11.7</td>\n",
       "      <td>6</td>\n",
       "      <td>1.0</td>\n",
       "    </tr>\n",
       "    <tr>\n",
       "      <th>2</th>\n",
       "      <td>4.7</td>\n",
       "      <td>0.145</td>\n",
       "      <td>0.29</td>\n",
       "      <td>1.0</td>\n",
       "      <td>0.042</td>\n",
       "      <td>35.0</td>\n",
       "      <td>90.0</td>\n",
       "      <td>0.99080</td>\n",
       "      <td>3.76</td>\n",
       "      <td>0.49</td>\n",
       "      <td>11.3</td>\n",
       "      <td>6</td>\n",
       "      <td>1.0</td>\n",
       "    </tr>\n",
       "    <tr>\n",
       "      <th>3</th>\n",
       "      <td>6.9</td>\n",
       "      <td>0.260</td>\n",
       "      <td>0.29</td>\n",
       "      <td>4.2</td>\n",
       "      <td>0.043</td>\n",
       "      <td>33.0</td>\n",
       "      <td>114.0</td>\n",
       "      <td>0.99020</td>\n",
       "      <td>3.16</td>\n",
       "      <td>0.31</td>\n",
       "      <td>12.5</td>\n",
       "      <td>6</td>\n",
       "      <td>1.0</td>\n",
       "    </tr>\n",
       "    <tr>\n",
       "      <th>4</th>\n",
       "      <td>6.4</td>\n",
       "      <td>0.450</td>\n",
       "      <td>0.07</td>\n",
       "      <td>1.1</td>\n",
       "      <td>0.030</td>\n",
       "      <td>10.0</td>\n",
       "      <td>131.0</td>\n",
       "      <td>0.99050</td>\n",
       "      <td>2.97</td>\n",
       "      <td>0.28</td>\n",
       "      <td>10.8</td>\n",
       "      <td>5</td>\n",
       "      <td>1.0</td>\n",
       "    </tr>\n",
       "  </tbody>\n",
       "</table>\n",
       "</div>"
      ],
      "text/plain": [
       "   fixed acidity  volatile acidity  citric acid  residual sugar  chlorides  \\\n",
       "0            7.4             0.170         0.29             1.4      0.047   \n",
       "1            5.3             0.310         0.38            10.5      0.031   \n",
       "2            4.7             0.145         0.29             1.0      0.042   \n",
       "3            6.9             0.260         0.29             4.2      0.043   \n",
       "4            6.4             0.450         0.07             1.1      0.030   \n",
       "\n",
       "   free sulfur dioxide  total sulfur dioxide  density    pH  sulphates  \\\n",
       "0                 23.0                 107.0  0.99390  3.52       0.65   \n",
       "1                 53.0                 140.0  0.99321  3.34       0.46   \n",
       "2                 35.0                  90.0  0.99080  3.76       0.49   \n",
       "3                 33.0                 114.0  0.99020  3.16       0.31   \n",
       "4                 10.0                 131.0  0.99050  2.97       0.28   \n",
       "\n",
       "   alcohol  quality  Type  \n",
       "0     10.4        6   1.0  \n",
       "1     11.7        6   1.0  \n",
       "2     11.3        6   1.0  \n",
       "3     12.5        6   1.0  \n",
       "4     10.8        5   1.0  "
      ]
     },
     "execution_count": 10,
     "metadata": {},
     "output_type": "execute_result"
    }
   ],
   "source": [
    "df.head()"
   ]
  },
  {
   "cell_type": "code",
   "execution_count": 11,
   "id": "0a03f1b4",
   "metadata": {},
   "outputs": [
    {
     "name": "stdout",
     "output_type": "stream",
     "text": [
      "<class 'pandas.core.frame.DataFrame'>\n",
      "Index: 6449 entries, 0 to 32056\n",
      "Data columns (total 13 columns):\n",
      " #   Column                Non-Null Count  Dtype  \n",
      "---  ------                --------------  -----  \n",
      " 0   fixed acidity         6449 non-null   float64\n",
      " 1   volatile acidity      6449 non-null   float64\n",
      " 2   citric acid           6449 non-null   float64\n",
      " 3   residual sugar        6449 non-null   float64\n",
      " 4   chlorides             6449 non-null   float64\n",
      " 5   free sulfur dioxide   6449 non-null   float64\n",
      " 6   total sulfur dioxide  6449 non-null   float64\n",
      " 7   density               6449 non-null   float64\n",
      " 8   pH                    6449 non-null   float64\n",
      " 9   sulphates             6449 non-null   float64\n",
      " 10  alcohol               6449 non-null   float64\n",
      " 11  quality               6449 non-null   int64  \n",
      " 12  Type                  6449 non-null   float64\n",
      "dtypes: float64(12), int64(1)\n",
      "memory usage: 705.4 KB\n"
     ]
    }
   ],
   "source": [
    "df.info()"
   ]
  },
  {
   "cell_type": "code",
   "execution_count": 12,
   "id": "4670efa6",
   "metadata": {},
   "outputs": [
    {
     "data": {
      "text/plain": [
       "Type\n",
       "1.0    4866\n",
       "0.0    1583\n",
       "Name: count, dtype: int64"
      ]
     },
     "execution_count": 12,
     "metadata": {},
     "output_type": "execute_result"
    }
   ],
   "source": [
    "df['Type'].value_counts()"
   ]
  },
  {
   "cell_type": "code",
   "execution_count": 13,
   "id": "753a0da4",
   "metadata": {},
   "outputs": [],
   "source": [
    "import seaborn as sns\n",
    "import matplotlib.pyplot as plt"
   ]
  },
  {
   "cell_type": "code",
   "execution_count": 14,
   "id": "e01b7962",
   "metadata": {},
   "outputs": [
    {
     "data": {
      "image/png": "[encoded data removed]",
      "text/plain": [
       "<Figure size 640x480 with 1 Axes>"
      ]
     },
     "metadata": {},
     "output_type": "display_data"
    }
   ],
   "source": [
    "sns.countplot(x=df['Type'])\n",
    "plt.show()"
   ]
  },
  {
   "cell_type": "code",
   "execution_count": 15,
   "id": "99a94220",
   "metadata": {},
   "outputs": [
    {
     "data": {
      "text/plain": [
       "((9732, 12), (9732,))"
      ]
     },
     "execution_count": 15,
     "metadata": {},
     "output_type": "execute_result"
    }
   ],
   "source": [
    "from imblearn.over_sampling import SMOTE\n",
    "x=df.drop('Type',axis=1)\n",
    "y=df['Type']\n",
    "smote=SMOTE(sampling_strategy='minority')\n",
    "x_sm,y_sm=smote.fit_resample(x,y)\n",
    "x_sm.shape,y_sm.shape"
   ]
  },
  {
   "cell_type": "code",
   "execution_count": 16,
   "id": "2eab8413",
   "metadata": {},
   "outputs": [
    {
     "data": {
      "image/png": "[encoded data removed]",
      "text/plain": [
       "<Figure size 640x480 with 1 Axes>"
      ]
     },
     "metadata": {},
     "output_type": "display_data"
    }
   ],
   "source": [
    "sns.countplot(x=y_sm)\n",
    "plt.show()"
   ]
  },
  {
   "cell_type": "code",
   "execution_count": 17,
   "id": "5eda5419",
   "metadata": {},
   "outputs": [
    {
     "data": {
      "text/html": [
       "<div>\n",
       "<style scoped>\n",
       "    .dataframe tbody tr th:only-of-type {\n",
       "        vertical-align: middle;\n",
       "    }\n",
       "\n",
       "    .dataframe tbody tr th {\n",
       "        vertical-align: top;\n",
       "    }\n",
       "\n",
       "    .dataframe thead th {\n",
       "        text-align: right;\n",
       "    }\n",
       "</style>\n",
       "<table border=\"1\" class=\"dataframe\">\n",
       "  <thead>\n",
       "    <tr style=\"text-align: right;\">\n",
       "      <th></th>\n",
       "      <th>fixed acidity</th>\n",
       "      <th>volatile acidity</th>\n",
       "      <th>citric acid</th>\n",
       "      <th>residual sugar</th>\n",
       "      <th>chlorides</th>\n",
       "      <th>free sulfur dioxide</th>\n",
       "      <th>total sulfur dioxide</th>\n",
       "      <th>density</th>\n",
       "      <th>pH</th>\n",
       "      <th>sulphates</th>\n",
       "      <th>alcohol</th>\n",
       "      <th>quality</th>\n",
       "    </tr>\n",
       "  </thead>\n",
       "  <tbody>\n",
       "    <tr>\n",
       "      <th>0</th>\n",
       "      <td>7.4</td>\n",
       "      <td>0.170</td>\n",
       "      <td>0.29</td>\n",
       "      <td>1.4</td>\n",
       "      <td>0.047</td>\n",
       "      <td>23.0</td>\n",
       "      <td>107.0</td>\n",
       "      <td>0.99390</td>\n",
       "      <td>3.52</td>\n",
       "      <td>0.65</td>\n",
       "      <td>10.4</td>\n",
       "      <td>6</td>\n",
       "    </tr>\n",
       "    <tr>\n",
       "      <th>1</th>\n",
       "      <td>5.3</td>\n",
       "      <td>0.310</td>\n",
       "      <td>0.38</td>\n",
       "      <td>10.5</td>\n",
       "      <td>0.031</td>\n",
       "      <td>53.0</td>\n",
       "      <td>140.0</td>\n",
       "      <td>0.99321</td>\n",
       "      <td>3.34</td>\n",
       "      <td>0.46</td>\n",
       "      <td>11.7</td>\n",
       "      <td>6</td>\n",
       "    </tr>\n",
       "    <tr>\n",
       "      <th>2</th>\n",
       "      <td>4.7</td>\n",
       "      <td>0.145</td>\n",
       "      <td>0.29</td>\n",
       "      <td>1.0</td>\n",
       "      <td>0.042</td>\n",
       "      <td>35.0</td>\n",
       "      <td>90.0</td>\n",
       "      <td>0.99080</td>\n",
       "      <td>3.76</td>\n",
       "      <td>0.49</td>\n",
       "      <td>11.3</td>\n",
       "      <td>6</td>\n",
       "    </tr>\n",
       "    <tr>\n",
       "      <th>3</th>\n",
       "      <td>6.9</td>\n",
       "      <td>0.260</td>\n",
       "      <td>0.29</td>\n",
       "      <td>4.2</td>\n",
       "      <td>0.043</td>\n",
       "      <td>33.0</td>\n",
       "      <td>114.0</td>\n",
       "      <td>0.99020</td>\n",
       "      <td>3.16</td>\n",
       "      <td>0.31</td>\n",
       "      <td>12.5</td>\n",
       "      <td>6</td>\n",
       "    </tr>\n",
       "    <tr>\n",
       "      <th>4</th>\n",
       "      <td>6.4</td>\n",
       "      <td>0.450</td>\n",
       "      <td>0.07</td>\n",
       "      <td>1.1</td>\n",
       "      <td>0.030</td>\n",
       "      <td>10.0</td>\n",
       "      <td>131.0</td>\n",
       "      <td>0.99050</td>\n",
       "      <td>2.97</td>\n",
       "      <td>0.28</td>\n",
       "      <td>10.8</td>\n",
       "      <td>5</td>\n",
       "    </tr>\n",
       "    <tr>\n",
       "      <th>...</th>\n",
       "      <td>...</td>\n",
       "      <td>...</td>\n",
       "      <td>...</td>\n",
       "      <td>...</td>\n",
       "      <td>...</td>\n",
       "      <td>...</td>\n",
       "      <td>...</td>\n",
       "      <td>...</td>\n",
       "      <td>...</td>\n",
       "      <td>...</td>\n",
       "      <td>...</td>\n",
       "      <td>...</td>\n",
       "    </tr>\n",
       "    <tr>\n",
       "      <th>31698</th>\n",
       "      <td>7.4</td>\n",
       "      <td>0.190</td>\n",
       "      <td>0.31</td>\n",
       "      <td>14.5</td>\n",
       "      <td>0.045</td>\n",
       "      <td>39.0</td>\n",
       "      <td>193.0</td>\n",
       "      <td>0.99860</td>\n",
       "      <td>3.10</td>\n",
       "      <td>0.50</td>\n",
       "      <td>9.2</td>\n",
       "      <td>6</td>\n",
       "    </tr>\n",
       "    <tr>\n",
       "      <th>31747</th>\n",
       "      <td>6.4</td>\n",
       "      <td>0.160</td>\n",
       "      <td>0.42</td>\n",
       "      <td>1.0</td>\n",
       "      <td>0.036</td>\n",
       "      <td>29.0</td>\n",
       "      <td>113.0</td>\n",
       "      <td>0.99080</td>\n",
       "      <td>3.18</td>\n",
       "      <td>0.52</td>\n",
       "      <td>11.0</td>\n",
       "      <td>6</td>\n",
       "    </tr>\n",
       "    <tr>\n",
       "      <th>31753</th>\n",
       "      <td>5.8</td>\n",
       "      <td>0.250</td>\n",
       "      <td>0.26</td>\n",
       "      <td>13.1</td>\n",
       "      <td>0.051</td>\n",
       "      <td>44.0</td>\n",
       "      <td>148.0</td>\n",
       "      <td>0.99720</td>\n",
       "      <td>3.29</td>\n",
       "      <td>0.38</td>\n",
       "      <td>9.3</td>\n",
       "      <td>5</td>\n",
       "    </tr>\n",
       "    <tr>\n",
       "      <th>31825</th>\n",
       "      <td>9.9</td>\n",
       "      <td>0.250</td>\n",
       "      <td>0.46</td>\n",
       "      <td>1.7</td>\n",
       "      <td>0.062</td>\n",
       "      <td>26.0</td>\n",
       "      <td>42.0</td>\n",
       "      <td>0.99590</td>\n",
       "      <td>3.18</td>\n",
       "      <td>0.83</td>\n",
       "      <td>10.6</td>\n",
       "      <td>6</td>\n",
       "    </tr>\n",
       "    <tr>\n",
       "      <th>32056</th>\n",
       "      <td>6.6</td>\n",
       "      <td>0.540</td>\n",
       "      <td>0.21</td>\n",
       "      <td>16.3</td>\n",
       "      <td>0.055</td>\n",
       "      <td>41.0</td>\n",
       "      <td>182.0</td>\n",
       "      <td>0.99860</td>\n",
       "      <td>3.35</td>\n",
       "      <td>0.54</td>\n",
       "      <td>10.4</td>\n",
       "      <td>6</td>\n",
       "    </tr>\n",
       "  </tbody>\n",
       "</table>\n",
       "<p>6449 rows × 12 columns</p>\n",
       "</div>"
      ],
      "text/plain": [
       "       fixed acidity  volatile acidity  citric acid  residual sugar  \\\n",
       "0                7.4             0.170         0.29             1.4   \n",
       "1                5.3             0.310         0.38            10.5   \n",
       "2                4.7             0.145         0.29             1.0   \n",
       "3                6.9             0.260         0.29             4.2   \n",
       "4                6.4             0.450         0.07             1.1   \n",
       "...              ...               ...          ...             ...   \n",
       "31698            7.4             0.190         0.31            14.5   \n",
       "31747            6.4             0.160         0.42             1.0   \n",
       "31753            5.8             0.250         0.26            13.1   \n",
       "31825            9.9             0.250         0.46             1.7   \n",
       "32056            6.6             0.540         0.21            16.3   \n",
       "\n",
       "       chlorides  free sulfur dioxide  total sulfur dioxide  density    pH  \\\n",
       "0          0.047                 23.0                 107.0  0.99390  3.52   \n",
       "1          0.031                 53.0                 140.0  0.99321  3.34   \n",
       "2          0.042                 35.0                  90.0  0.99080  3.76   \n",
       "3          0.043                 33.0                 114.0  0.99020  3.16   \n",
       "4          0.030                 10.0                 131.0  0.99050  2.97   \n",
       "...          ...                  ...                   ...      ...   ...   \n",
       "31698      0.045                 39.0                 193.0  0.99860  3.10   \n",
       "31747      0.036                 29.0                 113.0  0.99080  3.18   \n",
       "31753      0.051                 44.0                 148.0  0.99720  3.29   \n",
       "31825      0.062                 26.0                  42.0  0.99590  3.18   \n",
       "32056      0.055                 41.0                 182.0  0.99860  3.35   \n",
       "\n",
       "       sulphates  alcohol  quality  \n",
       "0           0.65     10.4        6  \n",
       "1           0.46     11.7        6  \n",
       "2           0.49     11.3        6  \n",
       "3           0.31     12.5        6  \n",
       "4           0.28     10.8        5  \n",
       "...          ...      ...      ...  \n",
       "31698       0.50      9.2        6  \n",
       "31747       0.52     11.0        6  \n",
       "31753       0.38      9.3        5  \n",
       "31825       0.83     10.6        6  \n",
       "32056       0.54     10.4        6  \n",
       "\n",
       "[6449 rows x 12 columns]"
      ]
     },
     "execution_count": 17,
     "metadata": {},
     "output_type": "execute_result"
    }
   ],
   "source": [
    "x=df.drop('Type',axis=1)\n",
    "y=df['Type']\n",
    "x"
   ]
  },
  {
   "cell_type": "code",
   "execution_count": 18,
   "id": "d6c32f5f",
   "metadata": {},
   "outputs": [
    {
     "data": {
      "text/plain": [
       "0        1.0\n",
       "1        1.0\n",
       "2        1.0\n",
       "3        1.0\n",
       "4        1.0\n",
       "        ... \n",
       "31698    1.0\n",
       "31747    1.0\n",
       "31753    1.0\n",
       "31825    0.0\n",
       "32056    1.0\n",
       "Name: Type, Length: 6449, dtype: float64"
      ]
     },
     "execution_count": 18,
     "metadata": {},
     "output_type": "execute_result"
    }
   ],
   "source": [
    "y"
   ]
  },
  {
   "cell_type": "code",
   "execution_count": 19,
   "id": "9a75be66",
   "metadata": {},
   "outputs": [],
   "source": [
    "from sklearn.preprocessing import MinMaxScaler\n",
    "ms=MinMaxScaler()\n",
    "x=ms.fit_transform(x)"
   ]
  },
  {
   "cell_type": "code",
   "execution_count": 21,
   "id": "c9c939a8",
   "metadata": {},
   "outputs": [
    {
     "name": "stdout",
     "output_type": "stream",
     "text": [
      "[0. 1. 1. ... 1. 0. 1.]\n",
      "0.9870801033591732\n",
      "              precision    recall  f1-score   support\n",
      "\n",
      "         0.0       0.99      0.96      0.97       486\n",
      "         1.0       0.99      1.00      0.99      1449\n",
      "\n",
      "    accuracy                           0.99      1935\n",
      "   macro avg       0.99      0.98      0.98      1935\n",
      "weighted avg       0.99      0.99      0.99      1935\n",
      "\n",
      "[[ 467   19]\n",
      " [   6 1443]]\n"
     ]
    }
   ],
   "source": [
    "from sklearn.linear_model import LogisticRegression\n",
    "lr=LogisticRegression()\n",
    "from sklearn.model_selection import train_test_split\n",
    "x_train,x_test,y_train,y_test=train_test_split(x,y,test_size=0.3,random_state=42)\n",
    "lr.fit(x_train,y_train)\n",
    "y_pred=lr.predict(x_test)\n",
    "print(y_pred)\n",
    "from sklearn.metrics import accuracy_score,classification_report,confusion_matrix\n",
    "print(accuracy_score(y_test,y_pred))\n",
    "print(classification_report(y_test,y_pred))\n",
    "print(confusion_matrix(y_test,y_pred))\n"
   ]
  },
  {
   "cell_type": "code",
   "execution_count": 22,
   "id": "8662508c",
   "metadata": {},
   "outputs": [
    {
     "name": "stdout",
     "output_type": "stream",
     "text": [
      "[0. 1. 1. ... 1. 0. 1.]\n",
      "0.9850129198966409\n",
      "              precision    recall  f1-score   support\n",
      "\n",
      "         0.0       0.99      0.95      0.97       486\n",
      "         1.0       0.98      1.00      0.99      1449\n",
      "\n",
      "    accuracy                           0.99      1935\n",
      "   macro avg       0.99      0.97      0.98      1935\n",
      "weighted avg       0.99      0.99      0.98      1935\n",
      "\n",
      "[[ 463   23]\n",
      " [   6 1443]]\n"
     ]
    }
   ],
   "source": [
    "from sklearn.linear_model import LogisticRegression\n",
    "lr=LogisticRegression()\n",
    "from sklearn.model_selection import train_test_split\n",
    "x_train,x_test,y_train,y_test=train_test_split(x,y,test_size=0.3,random_state=42)\n",
    "lr.fit(x_test,y_test)\n",
    "y_pred=lr.predict(x_test)\n",
    "print(y_pred)\n",
    "from sklearn.metrics import accuracy_score,classification_report,confusion_matrix\n",
    "print(accuracy_score(y_test,y_pred))\n",
    "print(classification_report(y_test,y_pred))\n",
    "print(confusion_matrix(y_test,y_pred))"
   ]
  },
  {
   "cell_type": "code",
   "execution_count": 23,
   "id": "95bd8bc7",
   "metadata": {},
   "outputs": [
    {
     "name": "stdout",
     "output_type": "stream",
     "text": [
      "[0. 1. 1. ... 0. 0. 1.]\n",
      "0.9855297157622739\n",
      "              precision    recall  f1-score   support\n",
      "\n",
      "         0.0       0.98      0.97      0.97       486\n",
      "         1.0       0.99      0.99      0.99      1449\n",
      "\n",
      "    accuracy                           0.99      1935\n",
      "   macro avg       0.98      0.98      0.98      1935\n",
      "weighted avg       0.99      0.99      0.99      1935\n",
      "\n",
      "[[ 470   16]\n",
      " [  12 1437]]\n"
     ]
    }
   ],
   "source": [
    "from sklearn.tree import DecisionTreeClassifier\n",
    "dt=DecisionTreeClassifier()\n",
    "from sklearn.model_selection import train_test_split\n",
    "x_train,x_test,y_train,y_test=train_test_split(x,y,test_size=0.3,random_state=42)\n",
    "dt.fit(x_train,y_train)\n",
    "y_pred=dt.predict(x_test)\n",
    "print(y_pred)\n",
    "from sklearn.metrics import accuracy_score,classification_report,confusion_matrix\n",
    "print(accuracy_score(y_test,y_pred))\n",
    "print(classification_report(y_test,y_pred))\n",
    "print(confusion_matrix(y_test,y_pred))\n"
   ]
  },
  {
   "cell_type": "code",
   "execution_count": 24,
   "id": "4ef71bf9",
   "metadata": {},
   "outputs": [
    {
     "name": "stdout",
     "output_type": "stream",
     "text": [
      "[0. 1. 1. ... 0. 0. 1.]\n",
      "1.0\n",
      "              precision    recall  f1-score   support\n",
      "\n",
      "         0.0       1.00      1.00      1.00       486\n",
      "         1.0       1.00      1.00      1.00      1449\n",
      "\n",
      "    accuracy                           1.00      1935\n",
      "   macro avg       1.00      1.00      1.00      1935\n",
      "weighted avg       1.00      1.00      1.00      1935\n",
      "\n",
      "[[ 486    0]\n",
      " [   0 1449]]\n"
     ]
    }
   ],
   "source": [
    "from sklearn.tree import DecisionTreeClassifier\n",
    "dt=DecisionTreeClassifier()\n",
    "from sklearn.model_selection import train_test_split\n",
    "x_train,x_test,y_train,y_test=train_test_split(x,y,test_size=0.3,random_state=42)\n",
    "dt.fit(x_test,y_test)\n",
    "y_pred=dt.predict(x_test)\n",
    "print(y_pred)\n",
    "from sklearn.metrics import accuracy_score,classification_report,confusion_matrix\n",
    "print(accuracy_score(y_test,y_pred))\n",
    "print(classification_report(y_test,y_pred))\n",
    "print(confusion_matrix(y_test,y_pred))"
   ]
  },
  {
   "cell_type": "code",
   "execution_count": 25,
   "id": "4b9da9f7",
   "metadata": {},
   "outputs": [
    {
     "name": "stdout",
     "output_type": "stream",
     "text": [
      "[0. 1. 1. ... 0. 0. 1.]\n",
      "0.99328165374677\n",
      "              precision    recall  f1-score   support\n",
      "\n",
      "         0.0       1.00      0.98      0.99       486\n",
      "         1.0       0.99      1.00      1.00      1449\n",
      "\n",
      "    accuracy                           0.99      1935\n",
      "   macro avg       0.99      0.99      0.99      1935\n",
      "weighted avg       0.99      0.99      0.99      1935\n",
      "\n",
      "[[ 475   11]\n",
      " [   2 1447]]\n"
     ]
    }
   ],
   "source": [
    "from sklearn.ensemble import RandomForestClassifier\n",
    "rf=RandomForestClassifier()\n",
    "from sklearn.model_selection import train_test_split\n",
    "x_train,x_test,y_train,y_test=train_test_split(x,y,test_size=0.3,random_state=42)\n",
    "rf.fit(x_train,y_train)\n",
    "y_pred=rf.predict(x_test)\n",
    "print(y_pred)\n",
    "from sklearn.metrics import accuracy_score,classification_report,confusion_matrix\n",
    "print(accuracy_score(y_test,y_pred))\n",
    "print(classification_report(y_test,y_pred))\n",
    "print(confusion_matrix(y_test,y_pred))"
   ]
  },
  {
   "cell_type": "code",
   "execution_count": 26,
   "id": "be2d5a23",
   "metadata": {},
   "outputs": [
    {
     "name": "stdout",
     "output_type": "stream",
     "text": [
      "[0. 1. 1. ... 0. 0. 1.]\n",
      "1.0\n",
      "              precision    recall  f1-score   support\n",
      "\n",
      "         0.0       1.00      1.00      1.00       486\n",
      "         1.0       1.00      1.00      1.00      1449\n",
      "\n",
      "    accuracy                           1.00      1935\n",
      "   macro avg       1.00      1.00      1.00      1935\n",
      "weighted avg       1.00      1.00      1.00      1935\n",
      "\n",
      "[[ 486    0]\n",
      " [   0 1449]]\n"
     ]
    }
   ],
   "source": [
    "from sklearn.ensemble import RandomForestClassifier\n",
    "rf=RandomForestClassifier()\n",
    "from sklearn.model_selection import train_test_split\n",
    "x_train,x_test,y_train,y_test=train_test_split(x,y,test_size=0.3,random_state=42)\n",
    "rf.fit(x_test,y_test)\n",
    "y_pred=rf.predict(x_test)\n",
    "print(y_pred)\n",
    "from sklearn.metrics import accuracy_score,classification_report,confusion_matrix\n",
    "print(accuracy_score(y_test,y_pred))\n",
    "print(classification_report(y_test,y_pred))\n",
    "print(confusion_matrix(y_test,y_pred))"
   ]
  },
  {
   "cell_type": "code",
   "execution_count": null,
   "id": "69b993b3",
   "metadata": {},
   "outputs": [
    {
     "name": "stdout",
     "output_type": "stream",
     "text": [
      "[0. 1. 1. ... 0. 0. 1.]\n",
      "0.9751937984496124\n",
      "              precision    recall  f1-score   support\n",
      "\n",
      "         0.0       0.94      0.96      0.95       486\n",
      "         1.0       0.99      0.98      0.98      1449\n",
      "\n",
      "    accuracy                           0.98      1935\n",
      "   macro avg       0.96      0.97      0.97      1935\n",
      "weighted avg       0.98      0.98      0.98      1935\n",
      "\n",
      "[[ 466   20]\n",
      " [  28 1421]]\n"
     ]
    }
   ],
   "source": [
    "from sklearn.naive_bayes import GaussianNB\n",
    "gn=GaussianNB()\n",
    "from sklearn.model_selection import train_test_split\n",
    "x_train,x_test,y_train,y_test=train_test_split(x,y,test_size=0.3,random_state=42)\n",
    "gn.fit(x_train,y_train)\n",
    "y_pred=gn.predict(x_test)\n",
    "print(y_pred)\n",
    "from sklearn.metrics import accuracy_score,classification_report,confusion_matrix\n",
    "print(accuracy_score(y_test,y_pred))\n",
    "print(classification_report(y_test,y_pred))\n",
    "print(confusion_matrix(y_test,y_pred))"
   ]
  },
  {
   "cell_type": "code",
   "execution_count": 28,
   "id": "ca928c7f",
   "metadata": {},
   "outputs": [
    {
     "name": "stdout",
     "output_type": "stream",
     "text": [
      "[0. 1. 1. ... 0. 0. 1.]\n",
      "0.9746770025839794\n",
      "              precision    recall  f1-score   support\n",
      "\n",
      "         0.0       0.93      0.97      0.95       486\n",
      "         1.0       0.99      0.98      0.98      1449\n",
      "\n",
      "    accuracy                           0.97      1935\n",
      "   macro avg       0.96      0.97      0.97      1935\n",
      "weighted avg       0.98      0.97      0.97      1935\n",
      "\n",
      "[[ 471   15]\n",
      " [  34 1415]]\n"
     ]
    }
   ],
   "source": [
    "from sklearn.naive_bayes import GaussianNB\n",
    "gn=GaussianNB()\n",
    "from sklearn.model_selection import train_test_split\n",
    "x_train,x_test,y_train,y_test=train_test_split(x,y,test_size=0.3,random_state=42)\n",
    "gn.fit(x_test,y_test)\n",
    "y_pred=gn.predict(x_test)\n",
    "print(y_pred)\n",
    "from sklearn.metrics import accuracy_score,classification_report,confusion_matrix\n",
    "print(accuracy_score(y_test,y_pred))\n",
    "print(classification_report(y_test,y_pred))\n",
    "print(confusion_matrix(y_test,y_pred))"
   ]
  },
  {
   "cell_type": "code",
   "execution_count": 29,
   "id": "a4ee1035",
   "metadata": {},
   "outputs": [
    {
     "name": "stdout",
     "output_type": "stream",
     "text": [
      "[0. 1. 1. ... 1. 0. 1.]\n",
      "0.9901808785529715\n",
      "              precision    recall  f1-score   support\n",
      "\n",
      "         0.0       0.99      0.97      0.98       486\n",
      "         1.0       0.99      1.00      0.99      1449\n",
      "\n",
      "    accuracy                           0.99      1935\n",
      "   macro avg       0.99      0.98      0.99      1935\n",
      "weighted avg       0.99      0.99      0.99      1935\n",
      "\n",
      "[[ 471   15]\n",
      " [   4 1445]]\n"
     ]
    }
   ],
   "source": [
    "from sklearn.neighbors import KNeighborsClassifier\n",
    "kn=KNeighborsClassifier()\n",
    "from sklearn.model_selection import train_test_split\n",
    "x_train,x_test,y_train,y_test=train_test_split(x,y,test_size=0.3,random_state=42)\n",
    "kn.fit(x_train,y_train)\n",
    "y_pred=kn.predict(x_test)\n",
    "print(y_pred)\n",
    "from sklearn.metrics import accuracy_score,classification_report,confusion_matrix\n",
    "print(accuracy_score(y_test,y_pred))\n",
    "print(classification_report(y_test,y_pred))\n",
    "print(confusion_matrix(y_test,y_pred))"
   ]
  },
  {
   "cell_type": "code",
   "execution_count": 30,
   "id": "b54c8503",
   "metadata": {},
   "outputs": [
    {
     "name": "stdout",
     "output_type": "stream",
     "text": [
      "[0. 1. 1. ... 0. 0. 1.]\n",
      "0.9901808785529715\n",
      "              precision    recall  f1-score   support\n",
      "\n",
      "         0.0       0.98      0.98      0.98       486\n",
      "         1.0       0.99      0.99      0.99      1449\n",
      "\n",
      "    accuracy                           0.99      1935\n",
      "   macro avg       0.99      0.99      0.99      1935\n",
      "weighted avg       0.99      0.99      0.99      1935\n",
      "\n",
      "[[ 476   10]\n",
      " [   9 1440]]\n"
     ]
    }
   ],
   "source": [
    "from sklearn.neighbors import KNeighborsClassifier\n",
    "kn=KNeighborsClassifier()\n",
    "from sklearn.model_selection import train_test_split\n",
    "x_train,x_test,y_train,y_test=train_test_split(x,y,test_size=0.3,random_state=42)\n",
    "kn.fit(x_test,y_test)\n",
    "y_pred=kn.predict(x_test)\n",
    "print(y_pred)\n",
    "from sklearn.metrics import accuracy_score,classification_report,confusion_matrix\n",
    "print(accuracy_score(y_test,y_pred))\n",
    "print(classification_report(y_test,y_pred))\n",
    "print(confusion_matrix(y_test,y_pred))"
   ]
  },
  {
   "cell_type": "code",
   "execution_count": 31,
   "id": "7173eb9c",
   "metadata": {},
   "outputs": [
    {
     "name": "stdout",
     "output_type": "stream",
     "text": [
      "[0. 1. 1. ... 0. 0. 1.]\n",
      "0.993798449612403\n",
      "              precision    recall  f1-score   support\n",
      "\n",
      "         0.0       0.99      0.98      0.99       486\n",
      "         1.0       0.99      1.00      1.00      1449\n",
      "\n",
      "    accuracy                           0.99      1935\n",
      "   macro avg       0.99      0.99      0.99      1935\n",
      "weighted avg       0.99      0.99      0.99      1935\n",
      "\n",
      "[[ 477    9]\n",
      " [   3 1446]]\n"
     ]
    }
   ],
   "source": [
    "from sklearn.svm import SVC\n",
    "svc=SVC()\n",
    "from sklearn.model_selection import train_test_split\n",
    "x_train,x_test,y_train,y_test=train_test_split(x,y,test_size=0.3,random_state=42)\n",
    "svc.fit(x_train,y_train)\n",
    "y_pred=svc.predict(x_test)\n",
    "print(y_pred)\n",
    "from sklearn.metrics import accuracy_score,classification_report,confusion_matrix\n",
    "print(accuracy_score(y_test,y_pred))\n",
    "print(classification_report(y_test,y_pred))\n",
    "print(confusion_matrix(y_test,y_pred))"
   ]
  },
  {
   "cell_type": "code",
   "execution_count": 32,
   "id": "b6d9de44",
   "metadata": {},
   "outputs": [
    {
     "name": "stdout",
     "output_type": "stream",
     "text": [
      "[0. 1. 1. ... 1. 0. 1.]\n",
      "0.992764857881137\n",
      "              precision    recall  f1-score   support\n",
      "\n",
      "         0.0       0.99      0.98      0.99       486\n",
      "         1.0       0.99      1.00      1.00      1449\n",
      "\n",
      "    accuracy                           0.99      1935\n",
      "   macro avg       0.99      0.99      0.99      1935\n",
      "weighted avg       0.99      0.99      0.99      1935\n",
      "\n",
      "[[ 475   11]\n",
      " [   3 1446]]\n"
     ]
    }
   ],
   "source": [
    "from sklearn.svm import SVC\n",
    "svc=SVC()\n",
    "from sklearn.model_selection import train_test_split\n",
    "x_train,x_test,y_train,y_test=train_test_split(x,y,test_size=0.3,random_state=42)\n",
    "svc.fit(x_test,y_test)\n",
    "y_pred=svc.predict(x_test)\n",
    "print(y_pred)\n",
    "from sklearn.metrics import accuracy_score,classification_report,confusion_matrix\n",
    "print(accuracy_score(y_test,y_pred))\n",
    "print(classification_report(y_test,y_pred))\n",
    "print(confusion_matrix(y_test,y_pred))"
   ]
  },
  {
   "cell_type": "code",
   "execution_count": 39,
   "id": "e50141a3",
   "metadata": {},
   "outputs": [
    {
     "name": "stdout",
     "output_type": "stream",
     "text": [
      "[1. 1. 1. ... 1. 1. 1.]\n",
      "0.7488372093023256\n",
      "              precision    recall  f1-score   support\n",
      "\n",
      "         0.0       0.00      0.00      0.00       486\n",
      "         1.0       0.75      1.00      0.86      1449\n",
      "\n",
      "    accuracy                           0.75      1935\n",
      "   macro avg       0.37      0.50      0.43      1935\n",
      "weighted avg       0.56      0.75      0.64      1935\n",
      "\n",
      "[[   0  486]\n",
      " [   0 1449]]\n"
     ]
    },
    {
     "name": "stderr",
     "output_type": "stream",
     "text": [
      "C:\\Users\\dell\\AppData\\Roaming\\Python\\Python313\\site-packages\\sklearn\\metrics\\_classification.py:1565: UndefinedMetricWarning: Precision is ill-defined and being set to 0.0 in labels with no predicted samples. Use `zero_division` parameter to control this behavior.\n",
      "  _warn_prf(average, modifier, f\"{metric.capitalize()} is\", len(result))\n",
      "C:\\Users\\dell\\AppData\\Roaming\\Python\\Python313\\site-packages\\sklearn\\metrics\\_classification.py:1565: UndefinedMetricWarning: Precision is ill-defined and being set to 0.0 in labels with no predicted samples. Use `zero_division` parameter to control this behavior.\n",
      "  _warn_prf(average, modifier, f\"{metric.capitalize()} is\", len(result))\n",
      "C:\\Users\\dell\\AppData\\Roaming\\Python\\Python313\\site-packages\\sklearn\\metrics\\_classification.py:1565: UndefinedMetricWarning: Precision is ill-defined and being set to 0.0 in labels with no predicted samples. Use `zero_division` parameter to control this behavior.\n",
      "  _warn_prf(average, modifier, f\"{metric.capitalize()} is\", len(result))\n"
     ]
    }
   ],
   "source": [
    "from sklearn.naive_bayes import GaussianNB\n",
    "gn=GaussianNB(var_smoothing=10,priors=None)\n",
    "from sklearn.model_selection import train_test_split\n",
    "x_train,x_test,y_train,y_test=train_test_split(x,y,test_size=0.3,random_state=42)\n",
    "gn.fit(x_train,y_train)\n",
    "y_pred=gn.predict(x_test)\n",
    "print(y_pred)\n",
    "from sklearn.metrics import accuracy_score,classification_report,confusion_matrix\n",
    "print(accuracy_score(y_test,y_pred))\n",
    "print(classification_report(y_test,y_pred))\n",
    "print(confusion_matrix(y_test,y_pred))"
   ]
  },
  {
   "cell_type": "code",
   "execution_count": 37,
   "id": "efa4c60c",
   "metadata": {},
   "outputs": [
    {
     "name": "stdout",
     "output_type": "stream",
     "text": [
      "[1. 1. 1. ... 1. 1. 1.]\n",
      "0.7488372093023256\n",
      "              precision    recall  f1-score   support\n",
      "\n",
      "         0.0       0.00      0.00      0.00       486\n",
      "         1.0       0.75      1.00      0.86      1449\n",
      "\n",
      "    accuracy                           0.75      1935\n",
      "   macro avg       0.37      0.50      0.43      1935\n",
      "weighted avg       0.56      0.75      0.64      1935\n",
      "\n",
      "[[   0  486]\n",
      " [   0 1449]]\n"
     ]
    },
    {
     "name": "stderr",
     "output_type": "stream",
     "text": [
      "C:\\Users\\dell\\AppData\\Roaming\\Python\\Python313\\site-packages\\sklearn\\metrics\\_classification.py:1565: UndefinedMetricWarning: Precision is ill-defined and being set to 0.0 in labels with no predicted samples. Use `zero_division` parameter to control this behavior.\n",
      "  _warn_prf(average, modifier, f\"{metric.capitalize()} is\", len(result))\n",
      "C:\\Users\\dell\\AppData\\Roaming\\Python\\Python313\\site-packages\\sklearn\\metrics\\_classification.py:1565: UndefinedMetricWarning: Precision is ill-defined and being set to 0.0 in labels with no predicted samples. Use `zero_division` parameter to control this behavior.\n",
      "  _warn_prf(average, modifier, f\"{metric.capitalize()} is\", len(result))\n",
      "C:\\Users\\dell\\AppData\\Roaming\\Python\\Python313\\site-packages\\sklearn\\metrics\\_classification.py:1565: UndefinedMetricWarning: Precision is ill-defined and being set to 0.0 in labels with no predicted samples. Use `zero_division` parameter to control this behavior.\n",
      "  _warn_prf(average, modifier, f\"{metric.capitalize()} is\", len(result))\n"
     ]
    }
   ],
   "source": [
    "from sklearn.naive_bayes import GaussianNB\n",
    "gn=GaussianNB(var_smoothing=10,priors=None)\n",
    "from sklearn.model_selection import train_test_split\n",
    "x_train,x_test,y_train,y_test=train_test_split(x,y,test_size=0.3,random_state=42)\n",
    "gn.fit(x_test,y_test)\n",
    "y_pred=gn.predict(x_test)\n",
    "print(y_pred)\n",
    "from sklearn.metrics import accuracy_score,classification_report,confusion_matrix\n",
    "print(accuracy_score(y_test,y_pred))\n",
    "print(classification_report(y_test,y_pred))\n",
    "print(confusion_matrix(y_test,y_pred))"
   ]
  },
  {
   "cell_type": "code",
   "execution_count": 40,
   "id": "a1ff60d3",
   "metadata": {},
   "outputs": [],
   "source": [
    "rf_param={\n",
    "    'var_smoothing':[1,2,3,4,5,6,7,8,9,10]\n",
    "}"
   ]
  },
  {
   "cell_type": "code",
   "execution_count": 45,
   "id": "5e775c19",
   "metadata": {},
   "outputs": [
    {
     "data": {
      "text/plain": [
       "{'var_smoothing': 1}"
      ]
     },
     "execution_count": 45,
     "metadata": {},
     "output_type": "execute_result"
    }
   ],
   "source": [
    "from sklearn.model_selection import RandomizedSearchCV\n",
    "gnb=GaussianNB()\n",
    "rf_cv=RandomizedSearchCV(gnb,rf_param,cv=5)\n",
    "rf_cv.fit(x_train,y_train)\n",
    "rf_cv.best_params_"
   ]
  },
  {
   "cell_type": "code",
   "execution_count": 46,
   "id": "eced353f",
   "metadata": {},
   "outputs": [
    {
     "data": {
      "text/plain": [
       "{'var_smoothing': 1}"
      ]
     },
     "execution_count": 46,
     "metadata": {},
     "output_type": "execute_result"
    }
   ],
   "source": [
    "from sklearn.model_selection import RandomizedSearchCV\n",
    "gnb=GaussianNB()\n",
    "rf_cv=RandomizedSearchCV(gnb,rf_param,cv=5)\n",
    "rf_cv.fit(x_test,y_test)\n",
    "rf_cv.best_params_"
   ]
  },
  {
   "cell_type": "code",
   "execution_count": 48,
   "id": "cc162593",
   "metadata": {},
   "outputs": [
    {
     "name": "stdout",
     "output_type": "stream",
     "text": [
      "[1. 1. 1. ... 1. 0. 1.]\n",
      "0.9136950904392764\n",
      "              precision    recall  f1-score   support\n",
      "\n",
      "         0.0       1.00      0.66      0.79       486\n",
      "         1.0       0.90      1.00      0.95      1449\n",
      "\n",
      "    accuracy                           0.91      1935\n",
      "   macro avg       0.95      0.83      0.87      1935\n",
      "weighted avg       0.92      0.91      0.91      1935\n",
      "\n",
      "[[ 320  166]\n",
      " [   1 1448]]\n"
     ]
    }
   ],
   "source": [
    "from sklearn.naive_bayes import GaussianNB\n",
    "gn=GaussianNB(var_smoothing=1,priors=None)\n",
    "from sklearn.model_selection import train_test_split\n",
    "x_train,x_test,y_train,y_test=train_test_split(x,y,test_size=0.3,random_state=42)\n",
    "gn.fit(x_train,y_train)\n",
    "y_pred=gn.predict(x_test)\n",
    "print(y_pred)\n",
    "from sklearn.metrics import accuracy_score,classification_report,confusion_matrix\n",
    "print(accuracy_score(y_test,y_pred))\n",
    "print(classification_report(y_test,y_pred))\n",
    "print(confusion_matrix(y_test,y_pred))"
   ]
  },
  {
   "cell_type": "code",
   "execution_count": 47,
   "id": "3520465b",
   "metadata": {},
   "outputs": [
    {
     "name": "stdout",
     "output_type": "stream",
     "text": [
      "[0. 1. 1. ... 1. 0. 1.]\n",
      "0.9178294573643411\n",
      "              precision    recall  f1-score   support\n",
      "\n",
      "         0.0       1.00      0.67      0.80       486\n",
      "         1.0       0.90      1.00      0.95      1449\n",
      "\n",
      "    accuracy                           0.92      1935\n",
      "   macro avg       0.95      0.84      0.88      1935\n",
      "weighted avg       0.93      0.92      0.91      1935\n",
      "\n",
      "[[ 328  158]\n",
      " [   1 1448]]\n"
     ]
    }
   ],
   "source": [
    "from sklearn.naive_bayes import GaussianNB\n",
    "gn=GaussianNB(var_smoothing=1,priors=None)\n",
    "from sklearn.model_selection import train_test_split\n",
    "x_train,x_test,y_train,y_test=train_test_split(x,y,test_size=0.3,random_state=42)\n",
    "gn.fit(x_test,y_test)\n",
    "y_pred=gn.predict(x_test)\n",
    "print(y_pred)\n",
    "from sklearn.metrics import accuracy_score,classification_report,confusion_matrix\n",
    "print(accuracy_score(y_test,y_pred))\n",
    "print(classification_report(y_test,y_pred))\n",
    "print(confusion_matrix(y_test,y_pred))"
   ]
  }
 ],
 "metadata": {
  "kernelspec": {
   "display_name": "Python 3",
   "language": "python",
   "name": "python3"
  },
  "language_info": {
   "codemirror_mode": {
    "name": "ipython",
    "version": 3
   },
   "file_extension": ".py",
   "mimetype": "text/x-python",
   "name": "python",
   "nbconvert_exporter": "python",
   "pygments_lexer": "ipython3",
   "version": "3.13.5"
  }
 },
 "nbformat": 4,
 "nbformat_minor": 5
}
